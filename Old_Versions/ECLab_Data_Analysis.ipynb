{
 "cells": [
  {
   "cell_type": "code",
   "execution_count": 1,
   "metadata": {},
   "outputs": [],
   "source": [
    "import os\n",
    "import pandas as pd\n",
    "import numpy as np\n",
    "import matplotlib.pyplot as plt\n",
    "import re\n",
    "from tkinter import Tk\n",
    "from tkinter.filedialog import askdirectory\n",
    "\n",
    "# Defining the JM colours\n",
    "JM_colours = {'dark blue':(30/235,34/235,170/235), 'light blue':(0,172/235,233/235), 'teal':(157/235,211/235,203/235), 'pink':(229/235,0,118/235), 'grey':(87/235,87/235,86/235)}"
   ]
  },
  {
   "attachments": {},
   "cell_type": "markdown",
   "metadata": {},
   "source": [
    "## Import the folder with .mpt files from EC Lab"
   ]
  },
  {
   "cell_type": "code",
   "execution_count": 2,
   "metadata": {},
   "outputs": [],
   "source": [
    "#Open a Tkinter window to select the folder interactively\n",
    "Tk().withdraw()\n",
    "folder_path = askdirectory(title='Select Folder')\n",
    "\n",
    "#Get user input for electrode area in cm²\n",
    "electrode_area_cm2 = float(input(\"Enter the electrode area (cm²): \"))\n",
    "\n",
    "data_list = []\n",
    "\n",
    "for file in os.listdir(folder_path):\n",
    "    if file.endswith(\".mpt\"):\n",
    "        file_path = os.path.join(folder_path, file)\n",
    "        with open(file_path, 'r', encoding='iso-8859-1') as f:\n",
    "            lines = f.readlines()\n",
    "            \n",
    "            #Extract the column names from the header line\n",
    "            header_line = lines[58].strip().split('\\t')\n",
    "            \n",
    "            #Extract the data section\n",
    "            data_start = 59\n",
    "            data_lines = [line.strip().split('\\t') for line in lines[data_start:]]\n",
    "            \n",
    "            #Create a dataframe for the data\n",
    "            df_data = pd.DataFrame(data_lines, columns=header_line)\n",
    "            \n",
    "            #Create a dictionary or list of values for each file\n",
    "            data = {\n",
    "                'File': file,\n",
    "                'Data': df_data\n",
    "            }\n",
    "            \n",
    "            data_list.append(data)\n",
    "\n",
    "df = pd.DataFrame(data_list)\n",
    "#Accessing the data from the first .mpt file\n",
    "first_file_data = df.loc[0, 'Data']"
   ]
  },
  {
   "attachments": {},
   "cell_type": "markdown",
   "metadata": {},
   "source": [
    "## Extract the relevant columns and clean the dataset"
   ]
  },
  {
   "cell_type": "code",
   "execution_count": 3,
   "metadata": {},
   "outputs": [
    {
     "data": {
      "text/html": [
       "<div>\n",
       "<style scoped>\n",
       "    .dataframe tbody tr th:only-of-type {\n",
       "        vertical-align: middle;\n",
       "    }\n",
       "\n",
       "    .dataframe tbody tr th {\n",
       "        vertical-align: top;\n",
       "    }\n",
       "\n",
       "    .dataframe thead th {\n",
       "        text-align: right;\n",
       "    }\n",
       "</style>\n",
       "<table border=\"1\" class=\"dataframe\">\n",
       "  <thead>\n",
       "    <tr style=\"text-align: right;\">\n",
       "      <th></th>\n",
       "      <th>File</th>\n",
       "      <th>Ewe/V</th>\n",
       "      <th>&lt;I&gt;/mAcm-2</th>\n",
       "      <th>Cycle number</th>\n",
       "    </tr>\n",
       "  </thead>\n",
       "  <tbody>\n",
       "    <tr>\n",
       "      <th>0</th>\n",
       "      <td>S20_CV_2_elect_Dark_200rpm_1MKOH_2_C02.mpt</td>\n",
       "      <td>-0.08</td>\n",
       "      <td>0.015240</td>\n",
       "      <td>1.0</td>\n",
       "    </tr>\n",
       "    <tr>\n",
       "      <th>1</th>\n",
       "      <td>S20_CV_2_elect_Dark_200rpm_1MKOH_2_C02.mpt</td>\n",
       "      <td>-0.08</td>\n",
       "      <td>0.034829</td>\n",
       "      <td>1.0</td>\n",
       "    </tr>\n",
       "    <tr>\n",
       "      <th>2</th>\n",
       "      <td>S20_CV_2_elect_Dark_200rpm_1MKOH_2_C02.mpt</td>\n",
       "      <td>-0.08</td>\n",
       "      <td>0.043969</td>\n",
       "      <td>1.0</td>\n",
       "    </tr>\n",
       "    <tr>\n",
       "      <th>3</th>\n",
       "      <td>S20_CV_2_elect_Dark_200rpm_1MKOH_2_C02.mpt</td>\n",
       "      <td>-0.07</td>\n",
       "      <td>0.049075</td>\n",
       "      <td>1.0</td>\n",
       "    </tr>\n",
       "    <tr>\n",
       "      <th>4</th>\n",
       "      <td>S20_CV_2_elect_Dark_200rpm_1MKOH_2_C02.mpt</td>\n",
       "      <td>-0.07</td>\n",
       "      <td>0.052276</td>\n",
       "      <td>1.0</td>\n",
       "    </tr>\n",
       "  </tbody>\n",
       "</table>\n",
       "</div>"
      ],
      "text/plain": [
       "                                         File  Ewe/V  <I>/mAcm-2  Cycle number\n",
       "0  S20_CV_2_elect_Dark_200rpm_1MKOH_2_C02.mpt  -0.08    0.015240           1.0\n",
       "1  S20_CV_2_elect_Dark_200rpm_1MKOH_2_C02.mpt  -0.08    0.034829           1.0\n",
       "2  S20_CV_2_elect_Dark_200rpm_1MKOH_2_C02.mpt  -0.08    0.043969           1.0\n",
       "3  S20_CV_2_elect_Dark_200rpm_1MKOH_2_C02.mpt  -0.07    0.049075           1.0\n",
       "4  S20_CV_2_elect_Dark_200rpm_1MKOH_2_C02.mpt  -0.07    0.052276           1.0"
      ]
     },
     "execution_count": 3,
     "metadata": {},
     "output_type": "execute_result"
    }
   ],
   "source": [
    "# Create an empty dataframe to store the extracted values\n",
    "result_df = pd.DataFrame(columns=['File', 'Ewe/V', '<I>/mA'])\n",
    "\n",
    "# Iterate over each dataframe in df\n",
    "for i, row in df.iterrows():\n",
    "    file_data = row['Data']\n",
    "    file_name = row['File']\n",
    "    \n",
    "    # Accessing specific columns from each dataframe\n",
    "    ewe_values = file_data['Ewe/V']\n",
    "    current_values = file_data['<I>/mA']\n",
    "    cycle_number = file_data['cycle number']\n",
    "    \n",
    "    # Create a temporary dataframe with the extracted values\n",
    "    temp_df = pd.DataFrame({\n",
    "        'File': [file_name] * len(ewe_values),\n",
    "        'Ewe/V': ewe_values,\n",
    "        '<I>/mA': current_values,\n",
    "        'Cycle number': cycle_number\n",
    "    })\n",
    "    \n",
    "    # Append the temporary dataframe to the result dataframe\n",
    "    result_df = pd.concat([result_df, temp_df], ignore_index=True)\n",
    "\n",
    "result_df['<I>/mA'] = result_df['<I>/mA'].astype(float) / electrode_area_cm2\n",
    "result_df = result_df.rename(columns={'<I>/mA': '<I>/mAcm-2'})\n",
    "result_df['Ewe/V'] = result_df['Ewe/V'].astype(float).round(2)\n",
    "\n",
    "# Convert the cycle number column to float\n",
    "result_df['Cycle number'] = result_df['Cycle number'].astype(float)\n",
    "\n",
    "# Define a dictionary to map the current cycle numbers to the desired values\n",
    "cycle_mapping = {1.0: 1, 2.0: 2, 3.0: 3}\n",
    "\n",
    "# Replace the cycle numbers in the 'Cycle number' column\n",
    "result_df['Cycle number'] = result_df['Cycle number'].replace(cycle_mapping)\n",
    "\n",
    "# Print the updated dataframe\n",
    "result_df.head()"
   ]
  },
  {
   "cell_type": "code",
   "execution_count": 4,
   "metadata": {},
   "outputs": [
    {
     "name": "stdout",
     "output_type": "stream",
     "text": [
      "S20_CV_2_elect_Dark_200rpm_1MKOH_2_C02.mpt\n",
      "S20_CV_2_elect_Dark_200rpm_1MKOH_3_C02.mpt\n",
      "S20_CV_2_elect_Light_200rpm_1MKOH_2_C02.mpt\n",
      "S20_CV_3_elect_Dark_200rpm_1MKOH_2_C02.mpt\n",
      "S20_CV_3_elect_Dark_200rpm_Water_2_C02.mpt\n",
      "S20_CV_3_elect_Dark_200rpm_Water_C02.mpt\n",
      "S20_CV_3_elect_Light_200rpm_Water_C02.mpt\n"
     ]
    }
   ],
   "source": [
    "unique_files = result_df['File'].unique()\n",
    "for file in unique_files:\n",
    "    print(file)"
   ]
  },
  {
   "attachments": {},
   "cell_type": "markdown",
   "metadata": {},
   "source": [
    "## Dataset evaluation and Graph builder"
   ]
  },
  {
   "cell_type": "code",
   "execution_count": 5,
   "metadata": {},
   "outputs": [
    {
     "data": {
      "text/html": [
       "<div>\n",
       "<style scoped>\n",
       "    .dataframe tbody tr th:only-of-type {\n",
       "        vertical-align: middle;\n",
       "    }\n",
       "\n",
       "    .dataframe tbody tr th {\n",
       "        vertical-align: top;\n",
       "    }\n",
       "\n",
       "    .dataframe thead th {\n",
       "        text-align: right;\n",
       "    }\n",
       "</style>\n",
       "<table border=\"1\" class=\"dataframe\">\n",
       "  <thead>\n",
       "    <tr style=\"text-align: right;\">\n",
       "      <th></th>\n",
       "      <th>File</th>\n",
       "      <th>Ewe/V</th>\n",
       "      <th>&lt;I&gt;/mAcm-2</th>\n",
       "      <th>Cycle number</th>\n",
       "    </tr>\n",
       "  </thead>\n",
       "  <tbody>\n",
       "    <tr>\n",
       "      <th>0</th>\n",
       "      <td>S20_CV_2_elect_Dark_200rpm_1MKOH_2_C02.mpt</td>\n",
       "      <td>-0.08</td>\n",
       "      <td>0.015240</td>\n",
       "      <td>1.0</td>\n",
       "    </tr>\n",
       "    <tr>\n",
       "      <th>1</th>\n",
       "      <td>S20_CV_2_elect_Dark_200rpm_1MKOH_2_C02.mpt</td>\n",
       "      <td>-0.08</td>\n",
       "      <td>0.034829</td>\n",
       "      <td>1.0</td>\n",
       "    </tr>\n",
       "    <tr>\n",
       "      <th>2</th>\n",
       "      <td>S20_CV_2_elect_Dark_200rpm_1MKOH_2_C02.mpt</td>\n",
       "      <td>-0.08</td>\n",
       "      <td>0.043969</td>\n",
       "      <td>1.0</td>\n",
       "    </tr>\n",
       "    <tr>\n",
       "      <th>3</th>\n",
       "      <td>S20_CV_2_elect_Dark_200rpm_1MKOH_2_C02.mpt</td>\n",
       "      <td>-0.07</td>\n",
       "      <td>0.049075</td>\n",
       "      <td>1.0</td>\n",
       "    </tr>\n",
       "    <tr>\n",
       "      <th>4</th>\n",
       "      <td>S20_CV_2_elect_Dark_200rpm_1MKOH_2_C02.mpt</td>\n",
       "      <td>-0.07</td>\n",
       "      <td>0.052276</td>\n",
       "      <td>1.0</td>\n",
       "    </tr>\n",
       "  </tbody>\n",
       "</table>\n",
       "</div>"
      ],
      "text/plain": [
       "                                         File  Ewe/V  <I>/mAcm-2  Cycle number\n",
       "0  S20_CV_2_elect_Dark_200rpm_1MKOH_2_C02.mpt  -0.08    0.015240           1.0\n",
       "1  S20_CV_2_elect_Dark_200rpm_1MKOH_2_C02.mpt  -0.08    0.034829           1.0\n",
       "2  S20_CV_2_elect_Dark_200rpm_1MKOH_2_C02.mpt  -0.08    0.043969           1.0\n",
       "3  S20_CV_2_elect_Dark_200rpm_1MKOH_2_C02.mpt  -0.07    0.049075           1.0\n",
       "4  S20_CV_2_elect_Dark_200rpm_1MKOH_2_C02.mpt  -0.07    0.052276           1.0"
      ]
     },
     "execution_count": 5,
     "metadata": {},
     "output_type": "execute_result"
    }
   ],
   "source": [
    "# Create an empty dictionary to store the dataframes\n",
    "dataframes = {}\n",
    "\n",
    "# Iterate over the unique filenames\n",
    "for i, file in enumerate(unique_files):\n",
    "    # Filter the result_df based on the current filename\n",
    "    filtered_df = result_df[result_df['File'] == file].copy()\n",
    "    \n",
    "    # Assign the filtered dataframe to a variable with a dynamic name\n",
    "    var_name = f\"df{i+1}\"\n",
    "    dataframes[var_name] = filtered_df\n",
    "\n",
    "# Example: Accessing a specific dataframe\n",
    "df1 = dataframes['df1']\n",
    "df1.head()"
   ]
  },
  {
   "cell_type": "code",
   "execution_count": 6,
   "metadata": {},
   "outputs": [
    {
     "data": {
      "image/png": "[encoded data removed]",
      "text/plain": [
       "<Figure size 640x480 with 1 Axes>"
      ]
     },
     "metadata": {},
     "output_type": "display_data"
    }
   ],
   "source": [
    "# Plotting Ewe/V versus <I>/mAcm-2\n",
    "plt.plot(df1['Ewe/V'], df1['<I>/mAcm-2'])\n",
    "plt.xlabel('Ewe/V')\n",
    "plt.ylabel('<I>/mAcm-2')\n",
    "plt.title('Plot of Ewe/V versus <I>/mAcm-2 for df1')\n",
    "plt.grid(True)\n",
    "plt.show()"
   ]
  },
  {
   "attachments": {},
   "cell_type": "markdown",
   "metadata": {},
   "source": [
    "## Filtered Dataset"
   ]
  },
  {
   "cell_type": "code",
   "execution_count": 7,
   "metadata": {},
   "outputs": [
    {
     "data": {
      "text/html": [
       "<div>\n",
       "<style scoped>\n",
       "    .dataframe tbody tr th:only-of-type {\n",
       "        vertical-align: middle;\n",
       "    }\n",
       "\n",
       "    .dataframe tbody tr th {\n",
       "        vertical-align: top;\n",
       "    }\n",
       "\n",
       "    .dataframe thead th {\n",
       "        text-align: right;\n",
       "    }\n",
       "</style>\n",
       "<table border=\"1\" class=\"dataframe\">\n",
       "  <thead>\n",
       "    <tr style=\"text-align: right;\">\n",
       "      <th></th>\n",
       "      <th>File</th>\n",
       "      <th>Ewe/V</th>\n",
       "      <th>&lt;I&gt;/mAcm-2</th>\n",
       "      <th>Cycle number</th>\n",
       "    </tr>\n",
       "  </thead>\n",
       "  <tbody>\n",
       "    <tr>\n",
       "      <th>400</th>\n",
       "      <td>S20_CV_2_elect_Dark_200rpm_1MKOH_2_C02.mpt</td>\n",
       "      <td>1.50</td>\n",
       "      <td>2.991569</td>\n",
       "      <td>2.0</td>\n",
       "    </tr>\n",
       "    <tr>\n",
       "      <th>401</th>\n",
       "      <td>S20_CV_2_elect_Dark_200rpm_1MKOH_2_C02.mpt</td>\n",
       "      <td>1.49</td>\n",
       "      <td>2.762646</td>\n",
       "      <td>2.0</td>\n",
       "    </tr>\n",
       "    <tr>\n",
       "      <th>402</th>\n",
       "      <td>S20_CV_2_elect_Dark_200rpm_1MKOH_2_C02.mpt</td>\n",
       "      <td>1.49</td>\n",
       "      <td>2.567235</td>\n",
       "      <td>2.0</td>\n",
       "    </tr>\n",
       "    <tr>\n",
       "      <th>403</th>\n",
       "      <td>S20_CV_2_elect_Dark_200rpm_1MKOH_2_C02.mpt</td>\n",
       "      <td>1.49</td>\n",
       "      <td>2.380046</td>\n",
       "      <td>2.0</td>\n",
       "    </tr>\n",
       "    <tr>\n",
       "      <th>404</th>\n",
       "      <td>S20_CV_2_elect_Dark_200rpm_1MKOH_2_C02.mpt</td>\n",
       "      <td>1.48</td>\n",
       "      <td>2.249397</td>\n",
       "      <td>2.0</td>\n",
       "    </tr>\n",
       "  </tbody>\n",
       "</table>\n",
       "</div>"
      ],
      "text/plain": [
       "                                           File  Ewe/V  <I>/mAcm-2  \\\n",
       "400  S20_CV_2_elect_Dark_200rpm_1MKOH_2_C02.mpt   1.50    2.991569   \n",
       "401  S20_CV_2_elect_Dark_200rpm_1MKOH_2_C02.mpt   1.49    2.762646   \n",
       "402  S20_CV_2_elect_Dark_200rpm_1MKOH_2_C02.mpt   1.49    2.567235   \n",
       "403  S20_CV_2_elect_Dark_200rpm_1MKOH_2_C02.mpt   1.49    2.380046   \n",
       "404  S20_CV_2_elect_Dark_200rpm_1MKOH_2_C02.mpt   1.48    2.249397   \n",
       "\n",
       "     Cycle number  \n",
       "400           2.0  \n",
       "401           2.0  \n",
       "402           2.0  \n",
       "403           2.0  \n",
       "404           2.0  "
      ]
     },
     "execution_count": 7,
     "metadata": {},
     "output_type": "execute_result"
    }
   ],
   "source": [
    "def apply_filters(df):\n",
    "    # Get the last cycle number\n",
    "    #last_cycle_number = df['Cycle number'].max()\n",
    "    # Set the mask for Cycle number\n",
    "    mask1 = df['Cycle number'] == 2\n",
    "    # Set the mask for 'Ewe' values within the range of 0.2 to 1.6\n",
    "    mask2 = (df['Ewe/V'] >= 0.2) & (df['Ewe/V'] <= 1.6)\n",
    "    # Apply the masks to filter the rows\n",
    "    filtered_df = df[mask1 & mask2]\n",
    "    \n",
    "    return filtered_df\n",
    "\n",
    "# Apply the filters to df1\n",
    "filtered_df1 = apply_filters(df1)\n",
    "\n",
    "# Print the filtered DataFrame\n",
    "filtered_df1.head()"
   ]
  },
  {
   "cell_type": "code",
   "execution_count": 8,
   "metadata": {},
   "outputs": [
    {
     "data": {
      "image/png": "[encoded data removed]",
      "text/plain": [
       "<Figure size 640x480 with 1 Axes>"
      ]
     },
     "metadata": {},
     "output_type": "display_data"
    }
   ],
   "source": [
    "# Plotting Ewe/V versus <I>/mAcm-2\n",
    "plt.plot(filtered_df1['Ewe/V'], filtered_df1['<I>/mAcm-2'])\n",
    "plt.xlabel('Ewe/V')\n",
    "plt.ylabel('<I>/mAcm-2')\n",
    "plt.title('Plot of Ewe/V versus <I>/mAcm-2 for df1')\n",
    "plt.grid(True)\n",
    "plt.show()"
   ]
  },
  {
   "cell_type": "code",
   "execution_count": null,
   "metadata": {},
   "outputs": [],
   "source": []
  }
 ],
 "metadata": {
  "kernelspec": {
   "display_name": "base",
   "language": "python",
   "name": "python3"
  },
  "language_info": {
   "codemirror_mode": {
    "name": "ipython",
    "version": 3
   },
   "file_extension": ".py",
   "mimetype": "text/x-python",
   "name": "python",
   "nbconvert_exporter": "python",
   "pygments_lexer": "ipython3",
   "version": "3.10.9"
  },
  "orig_nbformat": 4
 },
 "nbformat": 4,
 "nbformat_minor": 2
}
